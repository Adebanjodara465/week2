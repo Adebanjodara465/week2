{
 "cells": [
  {
   "cell_type": "markdown",
<<<<<<< HEAD
   "id": "dc49df87-e9c2-4b0b-87e7-56d10b8e5ea0",
=======
   "id": "8316058e-2eec-4220-a162-835381e1d4c3",
>>>>>>> master
   "metadata": {},
   "source": [
    "# Comments and Basic Data types"
   ]
  },
  {
   "cell_type": "code",
<<<<<<< HEAD
   "execution_count": 27,
   "id": "72262186-b2bc-4c6b-9ea1-71ecc692b4dd",
=======
   "execution_count": 57,
   "id": "d98ed4f3-1a38-408a-8241-d98efd27dff0",
>>>>>>> master
   "metadata": {},
   "outputs": [
    {
     "name": "stdout",
     "output_type": "stream",
     "text": [
      "Hello\n"
     ]
    }
   ],
   "source": [
    "\"\"\"\n",
    "This is \n",
    "        exactly how\n",
    "                   to write a\n",
    "                             multi-line comment (it must have those three quotes each)\n",
    "\"\"\"                             \n",
    "\n",
    "print(\"Hello\") #this is a comment"
   ]
  },
  {
   "cell_type": "code",
<<<<<<< HEAD
   "execution_count": 28,
   "id": "3a40d0b9-c6e7-4eb9-8e32-d0ef4ee7ff1f",
=======
   "execution_count": 58,
   "id": "2a2b5ed2-16c8-42d6-bc05-6f37c927a533",
>>>>>>> master
   "metadata": {},
   "outputs": [
    {
     "name": "stdout",
     "output_type": "stream",
     "text": [
      "2\n",
      "10\n"
     ]
    }
   ],
   "source": [
    "# the following are all integers:\n",
    "print(2)\n",
    "print(10)"
   ]
  },
  {
   "cell_type": "code",
<<<<<<< HEAD
   "execution_count": 29,
   "id": "71e1a78c-f831-4095-b437-bb51111f2da3",
=======
   "execution_count": 59,
   "id": "ed32a35d-9265-4790-916b-5adb3d9594e7",
>>>>>>> master
   "metadata": {},
   "outputs": [
    {
     "name": "stdout",
     "output_type": "stream",
     "text": [
      "10.953\n",
      "8.0\n"
     ]
    }
   ],
   "source": [
    "#the following are all floats:\n",
    "print(10.953)\n",
    "print(8.0)    #yes, even this number is a float. As long as e sha get decimal"
   ]
  },
  {
   "cell_type": "code",
<<<<<<< HEAD
   "execution_count": 30,
   "id": "5bfb9f76-f120-4904-935d-05878abab3be",
   "metadata": {
    "scrolled": true
   },
=======
   "execution_count": 60,
   "id": "7faf4a28-550e-4417-b00e-c46c3e307d80",
   "metadata": {},
>>>>>>> master
   "outputs": [
    {
     "name": "stdout",
     "output_type": "stream",
     "text": [
      "True\n",
      "False\n"
     ]
    }
   ],
   "source": [
    "#the following are booleans\n",
    "print(True)\n",
    "print(False)"
   ]
  },
  {
   "cell_type": "code",
<<<<<<< HEAD
   "execution_count": 31,
   "id": "1bb98688-1d1e-4805-9c37-ca9c5e247479",
=======
   "execution_count": 61,
   "id": "19dfbffd-260e-45e1-8d27-18a5cca1e00a",
>>>>>>> master
   "metadata": {},
   "outputs": [
    {
     "name": "stdout",
     "output_type": "stream",
     "text": [
      " \n",
      "There's a snake in my boot!\n",
      "True\n"
     ]
    }
   ],
   "source": [
    "#Strings are arrays of bytes representing unicode characters\n",
    "#In English, that means Strings are nothing more than a set of CHARACTERS, SYMBOLS, NUMBERS, WHITESPACE and even EMPTY SPACE between two quotation marks\n",
    "#whitespace is the space; any space that seperates characters. Be it space, tab of shift\n",
    "\n",
    "#the following are strings:\n",
    "print(\" \")\n",
    "print(\"There's a snake in my boot!\")\n",
    "print('True')"
   ]
  },
  {
   "cell_type": "code",
<<<<<<< HEAD
   "execution_count": 32,
   "id": "88283cbc-02c2-4a4a-adc6-d2ea428c7b47",
=======
   "execution_count": 62,
   "id": "962fd48d-c82c-4467-87c9-834724cecc98",
>>>>>>> master
   "metadata": {},
   "outputs": [
    {
     "name": "stdout",
     "output_type": "stream",
     "text": [
      "Dara\n"
     ]
    },
    {
     "data": {
      "text/plain": [
       "str"
      ]
     },
<<<<<<< HEAD
     "execution_count": 32,
=======
     "execution_count": 62,
>>>>>>> master
     "metadata": {},
     "output_type": "execute_result"
    }
   ],
   "source": [
    "#TODAY'S EXERCISE\n",
    "#print out your name\n",
    "#try checking the type of value by using the type method\n",
    "name = \"Dara\"\n",
    "print(name)\n",
    "type(name)"
   ]
  },
  {
   "cell_type": "markdown",
<<<<<<< HEAD
   "id": "1e04af22-e5a4-457d-82d6-d5db123f3e99",
=======
   "id": "9d19c5de-96f5-46a6-9bf5-1ac9e3fe77f7",
>>>>>>> master
   "metadata": {},
   "source": [
    "# VARIABLES"
   ]
  },
  {
   "cell_type": "code",
<<<<<<< HEAD
   "execution_count": 33,
   "id": "abca22f0-4fe0-484a-b49d-bc38098df1a8",
=======
   "execution_count": 64,
   "id": "379650b1-7330-49a3-916b-764c31360840",
>>>>>>> master
   "metadata": {},
   "outputs": [
    {
     "name": "stdout",
     "output_type": "stream",
     "text": [
      "5 8.4\n"
     ]
    }
   ],
   "source": [
    "#showing simple examples\n",
    "#number variables\n",
    "num1 = 5\n",
    "num2 = 8.4\n",
    "print(num1, num2)"
   ]
  },
  {
   "cell_type": "code",
<<<<<<< HEAD
   "execution_count": 34,
   "id": "b8f9324f-9dba-4950-9093-0b7c94acb7e7",
=======
   "execution_count": 65,
   "id": "26f3ffed-333d-41b3-ba03-54fd0a6e7e1f",
>>>>>>> master
   "metadata": {},
   "outputs": [
    {
     "name": "stdout",
     "output_type": "stream",
     "text": [
      "True\n"
     ]
    }
   ],
   "source": [
    "#storing a boolean in a variable\n",
    "switch = True\n",
    "print(switch)"
   ]
  },
  {
   "cell_type": "code",
<<<<<<< HEAD
   "execution_count": 35,
   "id": "598058b6-999d-4515-83cf-5c952d606bc0",
=======
   "execution_count": 66,
   "id": "ab831c60-881e-424b-8665-8f38185c2113",
>>>>>>> master
   "metadata": {},
   "outputs": [
    {
     "name": "stdout",
     "output_type": "stream",
     "text": [
      "Jhonny just come 9\n"
     ]
    }
   ],
   "source": [
    "#storing strings\n",
    "name ='Jhonny just come'\n",
    "fav_num = '9'  #the '9' is not the same as 9. One is a string, the other is a number\n",
    "print(name, fav_num)"
   ]
  },
  {
   "cell_type": "code",
<<<<<<< HEAD
   "execution_count": 36,
   "id": "a7b0d1a7-8331-45a3-bae8-dbb54e62b6e1",
=======
   "execution_count": 67,
   "id": "77e45740-6043-464e-8504-0a4b3a677522",
>>>>>>> master
   "metadata": {},
   "outputs": [
    {
     "name": "stdout",
     "output_type": "stream",
     "text": [
      "13.4\n"
     ]
    }
   ],
   "source": [
    "#using two previus variable to make another variable\n",
    "result = num1 + num2\n",
    "print(result)"
   ]
  },
  {
   "cell_type": "code",
<<<<<<< HEAD
   "execution_count": 37,
   "id": "654b90e5-bdd0-467d-97a7-c78eb2fad102",
=======
   "execution_count": 68,
   "id": "b6e2daf8-bf5a-4fda-b723-9882ea642379",
>>>>>>> master
   "metadata": {},
   "outputs": [
    {
     "name": "stdout",
     "output_type": "stream",
     "text": [
      "14.4\n",
      "72.0\n"
     ]
    }
   ],
   "source": [
    "#adding, deleting, multiplying and all sorts from a variable\n",
    "result += 1\n",
    "print(result)\n",
    "result *= num1\n",
    "print(result)"
   ]
  },
  {
   "cell_type": "code",
<<<<<<< HEAD
   "execution_count": 38,
   "id": "c27b8017-0e74-406c-9c66-b78cf6620e4a",
=======
   "execution_count": 69,
   "id": "8d1962dd-e902-4522-be61-5ead744b98c1",
>>>>>>> master
   "metadata": {},
   "outputs": [
    {
     "name": "stdout",
     "output_type": "stream",
     "text": [
      "Dara\n",
      "Tomi\n"
     ]
    }
   ],
   "source": [
    "#defining a variable and overwriting it's value\n",
    "name = 'Dara'\n",
    "print(name)\n",
    "name = 'Tomi'\n",
    "print(name)"
   ]
  },
  {
   "cell_type": "code",
<<<<<<< HEAD
   "execution_count": 44,
   "id": "88512533-10da-48e3-9949-cd35631d0379",
=======
   "execution_count": 70,
   "id": "95f7707c-e009-4f0a-a722-2244036b0f11",
>>>>>>> master
   "metadata": {},
   "outputs": [
    {
     "name": "stdout",
     "output_type": "stream",
     "text": [
      "3 +  10  =  13\n",
      "The area of a rectangle with width 245.54 and height 13.66  is  3354.0764\n"
     ]
    }
   ],
   "source": [
    "#MONDAY'S EXERCISE\n",
    "#VARIABLE OUTPUT\n",
    "x = 3\n",
    "y = 10\n",
    "result = x + y\n",
    "print(x, \"+ \",y, \" = \", result)\n",
    "\n",
    "#AREA CALCULATION\n",
    "w = 245.54\n",
    "h = 13.66\n",
    "result = w * h\n",
    "print(\"The area of a rectangle with width\", w ,\"and height\", h ,\" is \", result)"
   ]
  },
  {
<<<<<<< HEAD
   "cell_type": "code",
   "execution_count": null,
   "id": "7fa2ce5b-64a8-4166-b1dc-35057a9712d7",
=======
   "cell_type": "markdown",
   "id": "41980226-6dbf-4985-8901-b4327e8eff73",
   "metadata": {},
   "source": [
    "# Friday: Working with Strings"
   ]
  },
  {
   "cell_type": "code",
   "execution_count": 72,
   "id": "675e01dd-11b5-4f9a-b284-1bb688405300",
   "metadata": {},
   "outputs": [
    {
     "name": "stdout",
     "output_type": "stream",
     "text": [
      "John Smith\n"
     ]
    }
   ],
   "source": [
    "#String contenation is the adding of one string to the end of another\n",
    "#using the addition operator without variables\n",
    "name = \"John \" + \"Smith\"\n",
    "print(name)"
   ]
  },
  {
   "cell_type": "code",
   "execution_count": 73,
   "id": "437c46aa-9206-4651-bbfa-bab69578c152",
   "metadata": {},
   "outputs": [
    {
     "name": "stdout",
     "output_type": "stream",
     "text": [
      "John Smith\n"
     ]
    }
   ],
   "source": [
    "#using addition operator with variables\n",
    "first_name = \"John \"\n",
    "last_name = \"Smith\"\n",
    "full_name = first_name + last_name\n",
    "print(full_name)"
   ]
  },
  {
   "cell_type": "code",
   "execution_count": 74,
   "id": "9cbe6bc2-f266-42c4-bb93-1a87f17ed9fa",
   "metadata": {},
   "outputs": [
    {
     "name": "stdout",
     "output_type": "stream",
     "text": [
      "Hello John\n",
      "Hello John, you are 28 years old!\n"
     ]
    }
   ],
   "source": [
    "# FORMATING STRINGS:\n",
    "#injecting variables using the format method\n",
    "name = \"John\"\n",
    "print(\"Hello {}\".format(name) )\n",
    "print( \"Hello {}, you are {} years old!\".format(name, 28) ) #so the format method can insert both variables and data types"
   ]
  },
  {
   "cell_type": "code",
   "execution_count": 75,
   "id": "82747cdc-d279-4140-8e77-d0fd017dc313",
   "metadata": {},
   "outputs": [
    {
     "name": "stdout",
     "output_type": "stream",
     "text": [
      "Hello John\n"
     ]
    }
   ],
   "source": [
    "#using the new method which is the 'f' string\n",
    "name = \"John\"\n",
    "print(f\"Hello {name}\")"
   ]
  },
  {
   "cell_type": "code",
   "execution_count": 76,
   "id": "f648ecf3-bb23-4eb0-b937-74d59f830ffe",
   "metadata": {},
   "outputs": [
    {
     "name": "stdout",
     "output_type": "stream",
     "text": [
      "Hello, John\n"
     ]
    }
   ],
   "source": [
    "#this method can be used in case the previous ones are not supported in different python versions\n",
    "name = \"John\"\n",
    "print(\"Hello, %s\" % name)"
   ]
  },
  {
   "cell_type": "code",
   "execution_count": 77,
   "id": "cb654721-fb4a-433f-9555-232e5e16b923",
   "metadata": {},
   "outputs": [
    {
     "name": "stdout",
     "output_type": "stream",
     "text": [
      "Hello, John Smith\n"
     ]
    }
   ],
   "source": [
    "#python 2 multiple variable formating\n",
    "first_name = \"John\"\n",
    "last_name = \"Smith\"\n",
    "print(\"Hello, %s %s\" %(first_name, last_name) )\n",
    "                       #surround the variables in parenthesis"
   ]
  },
  {
   "cell_type": "code",
   "execution_count": null,
   "id": "a209613b-30e8-45b2-9b22-6d9c31dcc304",
   "metadata": {},
   "outputs": [],
   "source": [
    "#STRING INDEXING\n",
    "#using indexes to print each element\n",
    "word = \"Hello\"\n",
    "print(word[0])    #will print H\n",
    "print(word[1])     #will print E\n",
    "print(word[-1])      #will print O\n",
    "#using negative index numbers will result in trying to access information from the back such that - 4 will result in the output of letter 'e'"
   ]
  },
  {
   "cell_type": "code",
   "execution_count": 78,
   "id": "148ffc88-eb4e-4dee-b0ca-5f2d72dbf63b",
   "metadata": {},
   "outputs": [
    {
     "name": "stdout",
     "output_type": "stream",
     "text": [
      "He\n"
     ]
    }
   ],
   "source": [
    "#STRING SLICING\n",
    "#slicing is basically when younonly want a piece of the variable\n",
    "print(word[0 : 2])"
   ]
  },
  {
   "cell_type": "code",
   "execution_count": 101,
   "id": "daf322fe-94e0-4de1-9ddd-e7066435e5a4",
   "metadata": {},
   "outputs": [
    {
     "name": "stdout",
     "output_type": "stream",
     "text": [
      "Hlo\n"
     ]
    }
   ],
   "source": [
    "\"\"\"\n",
    "the syntax slicing is\n",
    "                     variable_name[ start : stop : step]\n",
    "                     the first number is the starting index and the second is the stoping index.The step index is optional and it defauls to incrementing by one each time\n",
    "Though if we want to print every other letter:\n",
    "\"\"\"\n",
    "word = \"Hello\"\n",
    "print(word[ 0 : 5 : 2] )  #idk"
   ]
  },
  {
   "cell_type": "code",
   "execution_count": 115,
   "id": "1c981be5-c150-4d43-9cbb-4e4a156cb9f4",
   "metadata": {},
   "outputs": [
    {
     "name": "stdout",
     "output_type": "stream",
     "text": [
      "These are the values needed in the puzzle: 18, 5.880000 True Dara\n",
      "And the other exercise isssss.......\n",
      "Dara's favorite sport is Basketball.\n",
      "Dara is working on Python programming\n"
     ]
    }
   ],
   "source": [
    "#EXERCISE\n",
    "#1 :create a print statement that injects an integer, float, boolean and string in one line. e.g \"23 4.2 false john\n",
    "num = 18\n",
    "value = True\n",
    "point = 5.88\n",
    "name = 'Dara'\n",
    "sport ='Basketball'\n",
    "lang = 'Python'\n",
    "print(\"These are the values needed in the puzzle: %d, %f %s %s\" %(num, point, value, name) )\n",
    "print(\"And the other exercise isssss.......\")\n",
    "print(\"{}'s favorite sport is {}.\".format(name, sport))\n",
    "print(f\"{name} is working on {lang} programming\")"
   ]
  },
  {
   "cell_type": "code",
   "execution_count": null,
   "id": "9fdf57ff-d6d4-42d2-920c-0fe0a94cc942",
>>>>>>> master
   "metadata": {},
   "outputs": [],
   "source": []
  }
 ],
 "metadata": {
  "kernelspec": {
<<<<<<< HEAD
   "display_name": "Python 3 (ipykernel)",
   "language": "python",
   "name": "python3"
=======
   "display_name": "Python [conda env:base] *",
   "language": "python",
   "name": "conda-base-py"
>>>>>>> master
  },
  "language_info": {
   "codemirror_mode": {
    "name": "ipython",
    "version": 3
   },
   "file_extension": ".py",
   "mimetype": "text/x-python",
   "name": "python",
   "nbconvert_exporter": "python",
   "pygments_lexer": "ipython3",
   "version": "3.12.7"
  }
 },
 "nbformat": 4,
 "nbformat_minor": 5
}
